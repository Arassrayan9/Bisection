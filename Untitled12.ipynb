{
  "nbformat": 4,
  "nbformat_minor": 0,
  "metadata": {
    "colab": {
      "provenance": [],
      "authorship_tag": "ABX9TyMnbI6AeGe41JRxR7p97sif",
      "include_colab_link": true
    },
    "kernelspec": {
      "name": "python3",
      "display_name": "Python 3"
    },
    "language_info": {
      "name": "python"
    }
  },
  "cells": [
    {
      "cell_type": "markdown",
      "metadata": {
        "id": "view-in-github",
        "colab_type": "text"
      },
      "source": [
        "<a href=\"https://colab.research.google.com/github/Arassrayan9/Bisection/blob/main/Untitled12.ipynb\" target=\"_parent\"><img src=\"https://colab.research.google.com/assets/colab-badge.svg\" alt=\"Open In Colab\"/></a>"
      ]
    },
    {
      "cell_type": "code",
      "execution_count": 1,
      "metadata": {
        "colab": {
          "base_uri": "https://localhost:8080/"
        },
        "id": "qxtohpvFtgOM",
        "outputId": "f0a100e8-c9b6-4265-e3c3-cc7261e55537"
      },
      "outputs": [
        {
          "output_type": "stream",
          "name": "stdout",
          "text": [
            "Approximate root: 4.9999999702628815\n"
          ]
        }
      ],
      "source": [
        "\n",
        "def false_position_method(func, a, b, tol=1e-6, max_iter=100):\n",
        "    for iteration in range(max_iter):\n",
        "        fa = func(a)\n",
        "        fb = func(b)\n",
        "\n",
        "        if abs(fa) < tol:\n",
        "            return a\n",
        "        elif abs(fb) < tol:\n",
        "            return b\n",
        "\n",
        "        c = (a * fb - b * fa) / (fb - fa)\n",
        "        fc = func(c)\n",
        "\n",
        "        if abs(fc) < tol or abs(b - a) < tol:\n",
        "            return c\n",
        "\n",
        "        if fc * fa < 0:\n",
        "            b = c\n",
        "        else:\n",
        "            a = c\n",
        "\n",
        "    raise ValueError(\"False position method did not converge within the maximum number of iterations.\")\n",
        "\n",
        "# Define the function f(x) = x^2 - 4x - 5\n",
        "def func(x):\n",
        "    return x**2 - 4*x - 5\n",
        "\n",
        "# Initial guesses\n",
        "a = 4\n",
        "b = 6\n",
        "\n",
        "# Solve using false position method\n",
        "solution = false_position_method(func, a, b)\n",
        "\n",
        "print(\"Approximate root:\", solution)"
      ]
    }
  ]
}